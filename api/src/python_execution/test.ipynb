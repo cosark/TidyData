{
 "cells": [
  {
   "cell_type": "code",
   "execution_count": 2,
   "metadata": {},
   "outputs": [],
   "source": [
    "import requests"
   ]
  },
  {
   "cell_type": "code",
   "execution_count": 3,
   "metadata": {},
   "outputs": [],
   "source": [
    "home_adress = \"http://0.0.0.0:80\"\n"
   ]
  },
  {
   "cell_type": "code",
   "execution_count": 37,
   "metadata": {},
   "outputs": [],
   "source": [
    "session = requests.post(\n",
    "    'http://34.118.55.236:80/start?user_id=alex@example.com&task_id=1'\n",
    "    # \"http://0.0.0.0:80/start?user_id=alex@example.com&task_id=1\"\n",
    ").json()['session_id']"
   ]
  },
  {
   "cell_type": "code",
   "execution_count": 38,
   "metadata": {},
   "outputs": [
    {
     "data": {
      "text/plain": [
       "'3ee7f24a-9a17-4a51-a8c2-82a59876768d'"
      ]
     },
     "execution_count": 38,
     "metadata": {},
     "output_type": "execute_result"
    }
   ],
   "source": [
    "session"
   ]
  },
  {
   "cell_type": "code",
   "execution_count": 26,
   "metadata": {},
   "outputs": [],
   "source": [
    "import urllib"
   ]
  },
  {
   "cell_type": "code",
   "execution_count": 35,
   "metadata": {},
   "outputs": [],
   "source": [
    "user_id = \"alex@example.com\"\n",
    "task_id = \"1\"\n",
    "task_name = \"Alex's Task\"\n",
    "# df only first 2 rows\n",
    "code = \"df=df.iloc[:2]\"\n",
    "explanation = \"explanation\"\n",
    "# encode sting for the url \n",
    "code = urllib.parse.quote(code)\n",
    "explanation = urllib.parse.quote(explanation)\n",
    "\n",
    "\n",
    "execute_code = requests.post(\n",
    "    f\"http://0.0.0.0:80/execute?session_id={session}&code={code}&explanation=print(df.head())&user_id={user_id}&task_id={task_id}&task_name={task_name}\"\n",
    ").json()"
   ]
  },
  {
   "cell_type": "code",
   "execution_count": 36,
   "metadata": {},
   "outputs": [
    {
     "name": "stdout",
     "output_type": "stream",
     "text": [
      "\n"
     ]
    }
   ],
   "source": [
    "print(execute_code['code_output'])"
   ]
  },
  {
   "cell_type": "code",
   "execution_count": null,
   "metadata": {},
   "outputs": [],
   "source": []
  }
 ],
 "metadata": {
  "kernelspec": {
   "display_name": "Python 3",
   "language": "python",
   "name": "python3"
  },
  "language_info": {
   "codemirror_mode": {
    "name": "ipython",
    "version": 3
   },
   "file_extension": ".py",
   "mimetype": "text/x-python",
   "name": "python",
   "nbconvert_exporter": "python",
   "pygments_lexer": "ipython3",
   "version": "3.10.4"
  },
  "orig_nbformat": 4
 },
 "nbformat": 4,
 "nbformat_minor": 2
}
